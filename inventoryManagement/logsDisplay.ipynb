{
 "cells": [
  {
   "cell_type": "code",
   "execution_count": 1,
   "id": "c80ce060-eb08-415d-9a4f-c8a06a157837",
   "metadata": {},
   "outputs": [],
   "source": [
    "import json\n",
    "from os import system\n",
    "try:\n",
    "    from prettytable import PrettyTable\n",
    "except:\n",
    "    system('pip install prettytable')\n",
    "    from prettytable import PrettyTable\n",
    "    \n",
    "    "
   ]
  },
  {
   "cell_type": "code",
   "execution_count": 2,
   "id": "139a319d-c7a4-40dd-b197-f1eb0e40eb0d",
   "metadata": {},
   "outputs": [],
   "source": [
    "# Reading the log file onto variable logs\n",
    "file=open('sale_log.json','r')\n",
    "readings=file.read()\n",
    "file.close()\n",
    "sale_logs=json.loads(readings)\n",
    "logs = sale_logs['logs']"
   ]
  },
  {
   "cell_type": "code",
   "execution_count": 3,
   "id": "f9a81776-7ecd-4b66-996b-2f7677d136d3",
   "metadata": {},
   "outputs": [],
   "source": [
    "# Defining function Bill similar to the one in buy.py\n",
    "def bill(cart):\n",
    "  total_amount = 0\n",
    "  total_quantity = 0\n",
    "  table = PrettyTable(['product_id','name','price','quantity','total price'])\n",
    "  for item in cart:\n",
    "    if item.isnumeric():  \n",
    "        table.add_row([item,cart[item]['name'],'₹' + str(int(cart[item]['price']/cart[item]['qty'])),cart[item]['qty'],'₹' + str(cart[item]['price'])])\n",
    "        total_amount += cart[item]['price']\n",
    "        total_quantity += cart[item]['qty']\n",
    "  print('**************************** FOOBAR Enterprise **************************')\n",
    "  print('Bill no: ', bill_no)\n",
    "  print('date and time: ', cart['datetime'])\n",
    "  print(table)\n",
    "  print('Total Quantity: ',total_quantity)\n",
    "  print('Total cost: ₹', total_amount)"
   ]
  },
  {
   "cell_type": "code",
   "execution_count": 4,
   "id": "1a79bbca-1e39-4449-a887-f49e36558e90",
   "metadata": {},
   "outputs": [
    {
     "name": "stdin",
     "output_type": "stream",
     "text": [
      "Enter the bill number for which you need to check the logs: 101\n"
     ]
    },
    {
     "name": "stdout",
     "output_type": "stream",
     "text": [
      "**************************** FOOBAR Enterprise **************************\n",
      "Bill no:  101\n",
      "date and time:  06/09/2021 12:01:30\n",
      "+------------+-------------------+-------+----------+-------------+\n",
      "| product_id |        name       | price | quantity | total price |\n",
      "+------------+-------------------+-------+----------+-------------+\n",
      "|    1021    | Nestle Milky Bars |  ₹20  |    20    |     ₹400    |\n",
      "|    1027    |   Cadbury 5 star  |  ₹20  |    10    |     ₹200    |\n",
      "+------------+-------------------+-------+----------+-------------+\n",
      "Total Quantity:  30\n",
      "Total cost: ₹ 600\n"
     ]
    }
   ],
   "source": [
    "# Get bill number and validate it \n",
    "while True:\n",
    "    bill_no = input(\"Enter the bill number for which you need to check the logs:\")\n",
    "    if bill_no in logs.keys():\n",
    "        break\n",
    "    else:\n",
    "        print(\"Enter valid bill number\")\n",
    "\n",
    "# Call the bill function\n",
    "bill(logs[bill_no])"
   ]
  },
  {
   "cell_type": "code",
   "execution_count": null,
   "id": "3deadda5-95ec-4f73-ad85-5d1cf72264de",
   "metadata": {},
   "outputs": [],
   "source": []
  }
 ],
 "metadata": {
  "kernelspec": {
   "display_name": "Python 3",
   "language": "python",
   "name": "python3"
  },
  "language_info": {
   "codemirror_mode": {
    "name": "ipython",
    "version": 3
   },
   "file_extension": ".py",
   "mimetype": "text/x-python",
   "name": "python",
   "nbconvert_exporter": "python",
   "pygments_lexer": "ipython3",
   "version": "3.8.8"
  }
 },
 "nbformat": 4,
 "nbformat_minor": 5
}
