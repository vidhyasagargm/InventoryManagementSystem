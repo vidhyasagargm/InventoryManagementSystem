{
 "cells": [
  {
   "cell_type": "code",
   "execution_count": 3,
   "id": "0c863c40-1469-4228-95a2-4c94725fa781",
   "metadata": {},
   "outputs": [],
   "source": [
    "import json\n",
    "from datetime import datetime\n",
    "from os import system\n",
    "try:\n",
    "    from prettytable import PrettyTable\n",
    "except:\n",
    "    system('pip install prettytable')\n",
    "    from prettytable import PrettyTable"
   ]
  },
  {
   "cell_type": "code",
   "execution_count": 4,
   "id": "b83d5766-389c-4d02-a4da-3e399ad16f16",
   "metadata": {},
   "outputs": [],
   "source": [
    "# Read the products json file and store it in variable products as a dictionary\n",
    "file=open('productlist.json','r')\n",
    "readings=file.read()\n",
    "file.close()\n",
    "products=json.loads(readings)"
   ]
  },
  {
   "cell_type": "code",
   "execution_count": 5,
   "id": "185dbbae-045d-434d-91db-5e4814abd55f",
   "metadata": {},
   "outputs": [],
   "source": [
    "# Read the logs json file and store it in variable readings as a dictionary\n",
    "file=open('sale_log.json','r')\n",
    "readings=file.read()\n",
    "file.close()\n",
    "sale_logs=json.loads(readings)\n",
    "sale_logs['billNo'] += 1 \n",
    "bill_no = sale_logs['billNo']"
   ]
  },
  {
   "cell_type": "code",
   "execution_count": 6,
   "id": "253e2174-853b-4846-a629-5334526e6314",
   "metadata": {},
   "outputs": [],
   "source": [
    "# List of all possible yes and no\n",
    "YES = ['y','Y','yes','Yes','YES']\n",
    "NO = ['n','N','no','No','NO']\n",
    "\n",
    "# Variable to store transaction id\n",
    "TRANSACTION_ID = 0\n",
    "\n",
    "# Declaring cart \n",
    "cart = {}"
   ]
  },
  {
   "cell_type": "code",
   "execution_count": 7,
   "id": "5dc5adfc-5bcc-4d28-a499-29cd678380ce",
   "metadata": {},
   "outputs": [],
   "source": [
    "# Checkout Function\n",
    "def checkout():\n",
    "  # Ask if the customer wants to checkout or continue shopping\n",
    "  customer_decision = input('Type Y if you want to checkout or Type N if you want to continue shopping: ')\n",
    "  if(customer_decision in YES):\n",
    "    return True \n",
    "  elif(customer_decision in NO):\n",
    "    return False\n",
    "  else:\n",
    "    print('Invalid selection')\n",
    "    return checkout()"
   ]
  },
  {
   "cell_type": "code",
   "execution_count": 8,
   "id": "3ebc3504-4132-4133-98c2-391b1d9a25d8",
   "metadata": {},
   "outputs": [],
   "source": [
    "# Definig function bill that prints the bills\n",
    "def bill(cart):\n",
    "  total_amount = 0\n",
    "  total_quantity = 0\n",
    "  table = PrettyTable(['product_id','name','price','quantity','total price'])\n",
    "  for item in cart:\n",
    "    print(item)\n",
    "    table.add_row([item,cart[item]['name'],'₹' + str(int(cart[item]['price']/cart[item]['qty'])),cart[item]['qty'],'₹' + str(cart[item]['price'])])\n",
    "    total_amount += cart[item]['price']\n",
    "    total_quantity += cart[item]['qty']\n",
    "  print('**************************** FOOBAR Enterprise **************************')\n",
    "  print('Bill no: ', bill_no)\n",
    "  print(table)\n",
    "  print('Total Quantity: ',total_quantity)\n",
    "  print('Total cost: ₹', total_amount)     "
   ]
  },
  {
   "cell_type": "code",
   "execution_count": 9,
   "id": "ac9f8b01-1b56-452f-a629-176412cc803d",
   "metadata": {},
   "outputs": [],
   "source": [
    "# Defining bill print\n",
    "def billprint():\n",
    "  if(checkout()):\n",
    "    # Adding log to the sale_log.json\n",
    "    now = datetime.now()\n",
    "    sale_logs['logs'][bill_no] = cart\n",
    "    # Calling bill function with cart as the paramter to it\n",
    "    bill(cart)\n",
    "    sale_logs['logs'][bill_no]['datetime'] = now.strftime(\"%d/%m/%Y %H:%M:%S\")\n",
    "    sales=json.dumps(sale_logs)\n",
    "    file=open('sale_log.json','w')\n",
    "    file.write(sales)\n",
    "    file.close()\n",
    "    print('thank you, Vist again')\n",
    "    return 0\n",
    "  else:\n",
    "    return buy()"
   ]
  },
  {
   "cell_type": "code",
   "execution_count": 10,
   "id": "04fb4cf9-920f-44ca-9c7d-c4a35602a2dd",
   "metadata": {},
   "outputs": [],
   "source": [
    "# Defining update_products functions which updates the existing productlist file\n",
    "def update_products(products):\n",
    "  readings=json.dumps(products)\n",
    "  file=open('productlist.json','w')\n",
    "  file.write(readings)\n",
    "  file.close()\n",
    "\n",
    " "
   ]
  },
  {
   "cell_type": "code",
   "execution_count": 11,
   "id": "2e3a640e-6504-4a63-8c53-f248c2986bc2",
   "metadata": {},
   "outputs": [],
   "source": [
    "# Defining buy function \n",
    "def buy():\n",
    "  # Requesting for product from customer\n",
    "  product_id = input('Enter Product ID:')\n",
    "  # Validating if the product exists\n",
    "  if product_id not in products.keys():\n",
    "    print('invalid ID')\n",
    "    return buy()\n",
    "  # Validating if the stock of the product is present\n",
    "  if products[product_id]['qty'] == 0:\n",
    "    print('out of stock')\n",
    "    return buy()\n",
    "  # Iterating again to get the quantity the customer wants  \n",
    "  while True:\n",
    "    quantity = int(input('Enter quantity:'))\n",
    "    if quantity < 1:\n",
    "      break\n",
    "    # Validating if quanity of the product is available for sale\n",
    "    if products[product_id]['qty'] < quantity:\n",
    "      print('Not enough Stock, only', products[product_id]['qty'], 'left')\n",
    "      print('Pls enter a valid quantity')\n",
    "    else:\n",
    "      break\n",
    "  # Adding the item into cart\n",
    "  # checking if the products already in cart  \n",
    "  if quantity > 0:\n",
    "    if product_id not in cart.keys():\n",
    "      cart[product_id] = {}\n",
    "      cart[product_id]['name'] = products[product_id]['name']\n",
    "      cart[product_id]['qty'] = quantity\n",
    "      cart[product_id]['price'] = cart[product_id]['qty'] * products[product_id]['price']\n",
    "    else:\n",
    "      cart[product_id]['qty'] += quantity\n",
    "      cart[product_id]['price'] = cart[product_id]['qty'] * products[product_id]['price']\n",
    "    # Removing quantity amount of product form products\n",
    "    products[product_id]['qty'] -= quantity\n",
    "    update_products(products)\n",
    "  # Calling Checkout function\n",
    "  billprint()  "
   ]
  },
  {
   "cell_type": "code",
   "execution_count": 12,
   "id": "b3c58240-0f11-4119-8e4d-0f03202bc951",
   "metadata": {},
   "outputs": [
    {
     "name": "stdout",
     "output_type": "stream",
     "text": [
      "+------------+----------------------------------------------+-------+----------+-----------------+\n",
      "| Product ID |                     Name                     | price | quantity | Weight in grams |\n",
      "+------------+----------------------------------------------+-------+----------+-----------------+\n",
      "|    1001    |                   Kurkure                    |  ₹10  |    50    |        90       |\n",
      "|    1002    |                     Lays                     |  ₹10  |   100    |        50       |\n",
      "|    1003    |                   Cheetos                    |  ₹10  |    99    |        40       |\n",
      "|    1004    |                    Bingo                     |  ₹10  |   100    |        80       |\n",
      "|    1005    |                    Picnic                    |  ₹10  |    60    |        70       |\n",
      "|    1006    |                   Parle's                    |  ₹20  |   100    |       150       |\n",
      "|    1007    |                   Doritos                    |  ₹40  |    40    |       100       |\n",
      "|    1008    |                   Popcorn                    |  ₹200 |   100    |        50       |\n",
      "|    1009    |                    kitkat                    |  ₹20  |    50    |        37       |\n",
      "|    1010    |               Daily Milk Silk                |  ₹70  |   100    |        60       |\n",
      "|    1011    |                     Oreo                     |  ₹30  |   100    |       120       |\n",
      "|    1012    |                 Hide & Seek                  |  ₹30  |   100    |       100       |\n",
      "|    1013    |              50 50 Maska Chaska              |  ₹30  |   100    |       120       |\n",
      "|    1014    |                Peanut Chikki                 |  ₹40  |    95    |       100       |\n",
      "|    1015    |               Lotte Choco Pie                |  ₹140 |   100    |       336       |\n",
      "|    1016    |           Hersher's Kisses Almond            |  ₹140 |   100    |       100       |\n",
      "|    1017    |          Hershey's Kisses Chocolate          |  ₹140 |   100    |       100       |\n",
      "|    1018    | Hershey's Kisses cookies and Creme chocolate |  ₹389 |   100    |       150       |\n",
      "|    1019    |               Snickers 2X Bars               |  ₹100 |   100    |        80       |\n",
      "|    1020    |         Cadbury Fuse Chocolate Bars          |  ₹20  |   100    |        25       |\n",
      "|    1021    |              Nestle Milky Bars               |  ₹20  |   100    |        25       |\n",
      "|    1022    |             Cardbury Bournville              |  ₹40  |   100    |        31       |\n",
      "|    1023    |                Cadbury 5 Star                |  ₹150 |   100    |       200       |\n",
      "|    1024    |     Cadbury Dairy Milk Silk Roast Almond     |  ₹160 |   100    |       143       |\n",
      "|    1025    |               Luvit Dairy Rich               |  ₹45  |   100    |        38       |\n",
      "|    1026    |                 Cadbury Fuse                 |  ₹20  |   100    |        25       |\n",
      "|    1027    |                Cadbury 5 star                |  ₹20  |   100    |        40       |\n",
      "|    1028    |                Amul Chocomini                |  ₹120 |   100    |       250       |\n",
      "|    1029    |          Skittles Wild Berry Candy           |  ₹50  |    90    |        33       |\n",
      "|    1030    |               Cadbury Nutties                |  ₹40  |   100    |        30       |\n",
      "+------------+----------------------------------------------+-------+----------+-----------------+\n"
     ]
    },
    {
     "name": "stdin",
     "output_type": "stream",
     "text": [
      "Enter Product ID: 1021\n",
      "Enter quantity: 20\n",
      "Type Y if you want to checkout or Type N if you want to continue shopping:  n\n",
      "Enter Product ID: 1027\n",
      "Enter quantity: 10\n",
      "Type Y if you want to checkout or Type N if you want to continue shopping:  y\n"
     ]
    },
    {
     "name": "stdout",
     "output_type": "stream",
     "text": [
      "1021\n",
      "1027\n",
      "**************************** FOOBAR Enterprise **************************\n",
      "Bill no:  101\n",
      "+------------+-------------------+-------+----------+-------------+\n",
      "| product_id |        name       | price | quantity | total price |\n",
      "+------------+-------------------+-------+----------+-------------+\n",
      "|    1021    | Nestle Milky Bars |  ₹20  |    20    |     ₹400    |\n",
      "|    1027    |   Cadbury 5 star  |  ₹20  |    10    |     ₹200    |\n",
      "+------------+-------------------+-------+----------+-------------+\n",
      "Total Quantity:  30\n",
      "Total cost: ₹ 600\n",
      "thank you, Vist again\n"
     ]
    }
   ],
   "source": [
    "# Displaying all the products\n",
    "table = PrettyTable(['Product ID', 'Name', 'price', 'quantity', 'Weight in grams'])\n",
    "for product in products:\n",
    "  table.add_row([product,products[product]['name'],'₹' + str(products[product]['price']),products[product]['qty'],products[product]['weight']])\n",
    "print(table)  \n",
    "# Calling buy function\n",
    "buy()\n",
    "\n",
    "      "
   ]
  },
  {
   "cell_type": "code",
   "execution_count": null,
   "id": "39212ea8-cd6b-4c3f-badf-bf8fbaf3edd5",
   "metadata": {},
   "outputs": [],
   "source": []
  }
 ],
 "metadata": {
  "kernelspec": {
   "display_name": "Python 3",
   "language": "python",
   "name": "python3"
  },
  "language_info": {
   "codemirror_mode": {
    "name": "ipython",
    "version": 3
   },
   "file_extension": ".py",
   "mimetype": "text/x-python",
   "name": "python",
   "nbconvert_exporter": "python",
   "pygments_lexer": "ipython3",
   "version": "3.8.8"
  }
 },
 "nbformat": 4,
 "nbformat_minor": 5
}
