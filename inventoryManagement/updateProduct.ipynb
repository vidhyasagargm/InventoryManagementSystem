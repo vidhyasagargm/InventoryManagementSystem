{
 "cells": [
  {
   "cell_type": "code",
   "execution_count": 2,
   "id": "329c38a5-7b53-4d92-8167-f31b2a3f29f5",
   "metadata": {},
   "outputs": [],
   "source": [
    "import json\n",
    "\n",
    "# Read the products json file and store it in variable products as a dictionary\n",
    "file=open('productlist.json','r')\n",
    "readings=file.read()\n",
    "file.close()\n",
    "products=json.loads(readings)"
   ]
  },
  {
   "cell_type": "code",
   "execution_count": 3,
   "id": "c5ea3719-1099-4882-bdf9-81f990a8f2ac",
   "metadata": {},
   "outputs": [],
   "source": [
    "# Defining funciton register which appends the products\n",
    "def register():\n",
    "    # Taking product id and validating it \n",
    "    product_id = input('enter product id: ')\n",
    "    if not product_id.isnumeric():\n",
    "        print('enter valid product ID')\n",
    "        register()\n",
    "\n",
    "    # If product id already exists then just take quanitty and add it to previous value    \n",
    "    if product_id in products.keys():\n",
    "        while True:\n",
    "            quantity = input('Enter quantity of product: ')\n",
    "            if quantity.isnumeric():\n",
    "                products[product_id]['qty'] += int(quantity)\n",
    "                break\n",
    "            else:\n",
    "                print(\"Enter valid quantity\")\n",
    "\n",
    "    # Else take all attributes for that product and validate it accordingly        \n",
    "    else:\n",
    "        name = input('enter product name: ')\n",
    "        while True: \n",
    "            price = input('enter product price: ')\n",
    "            if price.isnumeric():\n",
    "                price = int(price)\n",
    "                break\n",
    "            else:\n",
    "                print(\"enter valid price\")\n",
    "\n",
    "        while True:        \n",
    "            quantity = input('Enter quantity of product: ')\n",
    "            if quantity.isnumeric():\n",
    "                quantity = int(quantity)\n",
    "                break\n",
    "            else:\n",
    "                print('enter valid quantity')\n",
    "\n",
    "        while True:        \n",
    "            weight = input('Enter weight of product in grams: ')\n",
    "            if weight.isnumeric():\n",
    "                weight = int(weight)\n",
    "                break\n",
    "            else:\n",
    "                print(\"enter valid weight\")\n",
    "        products[product_id] = {}\n",
    "        products[product_id]['name'] = name\n",
    "        products[product_id]['price'] = price\n",
    "        products[product_id]['qty'] = quantity\n",
    "        products[product_id]['weight'] = weight"
   ]
  },
  {
   "cell_type": "code",
   "execution_count": 4,
   "id": "72365198-2368-412e-95b8-61351009ffbe",
   "metadata": {},
   "outputs": [
    {
     "name": "stdin",
     "output_type": "stream",
     "text": [
      "enter product id:  1024\n",
      "Enter quantity of product:  10\n"
     ]
    }
   ],
   "source": [
    "# Calling the register function \n",
    "register()\n",
    "\n",
    "# Updating the productlist.json file\n",
    "readings=json.dumps(products)\n",
    "file=open('productlist.json','w')\n",
    "file.write(readings)\n",
    "file.close()"
   ]
  },
  {
   "cell_type": "code",
   "execution_count": null,
   "id": "4a9f0c09-267d-4b78-b157-1fa12ca61d3c",
   "metadata": {},
   "outputs": [],
   "source": []
  }
 ],
 "metadata": {
  "kernelspec": {
   "display_name": "Python 3",
   "language": "python",
   "name": "python3"
  },
  "language_info": {
   "codemirror_mode": {
    "name": "ipython",
    "version": 3
   },
   "file_extension": ".py",
   "mimetype": "text/x-python",
   "name": "python",
   "nbconvert_exporter": "python",
   "pygments_lexer": "ipython3",
   "version": "3.8.8"
  }
 },
 "nbformat": 4,
 "nbformat_minor": 5
}
